{
 "cells": [
  {
   "cell_type": "code",
   "execution_count": null,
   "metadata": {},
   "outputs": [],
   "source": [
    "import sys\n",
    "sys.path.insert(0, './lib')\n",
    "import lmarraysimulator as lm\n",
    "\n",
    "\n"
   ]
  },
  {
   "cell_type": "code",
   "execution_count": 4,
   "metadata": {},
   "outputs": [
    {
     "name": "stdout",
     "output_type": "stream",
     "text": [
      "2024-02-29 12:00:00\n",
      "2024-02-29 12:00:00-08:00\n",
      "2024-02-29 12:00:00-08:00\n",
      "2024-02-29 12:00:00+00:00\n",
      "2024-02-29 04:00:00-08:00\n"
     ]
    }
   ],
   "source": [
    "# Getting Familiar with datetime objects\n",
    "\n",
    "from datetime import datetime, timezone\n",
    "from zoneinfo import ZoneInfo\n",
    "\n",
    "timezone_str = 'America/Los_Angeles'\n",
    "date_naive = datetime(2024, 2, 29, 12, 0, 0)\n",
    "date_local = date_naive.replace(tzinfo=ZoneInfo(timezone_str))\n",
    "date_local_1liner = datetime(2024, 2, 29, 12, 0, 0, tzinfo=ZoneInfo(timezone_str))\n",
    "date_utc = datetime(2024, 2, 29, 12, 0, 0, tzinfo=timezone.utc)\n",
    "\n",
    "\n",
    "print(date_naive)\n",
    "print(date_local)\n",
    "print(date_local_1liner)\n",
    "print(date_utc)\n",
    "print(date_utc.astimezone(ZoneInfo(timezone_str)))\n",
    "\n",
    "# cool!"
   ]
  },
  {
   "cell_type": "code",
   "execution_count": null,
   "metadata": {},
   "outputs": [
    {
     "name": "stdout",
     "output_type": "stream",
     "text": [
      "2024-03-10 03:58:53.815837\n",
      "2024-03-10 03:58:53.815837-07:00\n",
      "2024-03-10 10:58:53.815837+00:00\n",
      "2024-03-10 03:58:53.815837-07:00\n",
      "1709985533.816839\n",
      "1709981933.816839\n"
     ]
    }
   ],
   "source": [
    "# Getting Familiar with datetime objects\n",
    "\n",
    "from datetime import datetime, timezone, timedelta\n",
    "from zoneinfo import ZoneInfo\n",
    "\n",
    "timezone_str = 'America/Los_Angeles'\n",
    "date_naive = datetime.now()\n",
    "date_local = datetime.now().replace(tzinfo=ZoneInfo(timezone_str))\n",
    "# date_local_1liner = datetime(2024, 2, 29, 12, 0, 0, tzinfo=ZoneInfo(timezone_str))\n",
    "date_utc = datetime.now(ZoneInfo(\"UTC\"))\n",
    "\n",
    "\n",
    "print(date_naive)\n",
    "print(date_local)\n",
    "print(date_utc)\n",
    "print(date_utc.astimezone(ZoneInfo(timezone_str)))\n",
    "\n",
    "print((datetime.now()-timedelta(days=1)).timestamp())\n",
    "print((datetime.now(ZoneInfo('UTC'))-timedelta(days=1)).timestamp())\n",
    "\n",
    "# cool!"
   ]
  },
  {
   "cell_type": "code",
   "execution_count": 12,
   "metadata": {},
   "outputs": [
    {
     "ename": "ValueError",
     "evalue": "Invalid isoformat string: '2023-03-08T12:34:56.789123+'",
     "output_type": "error",
     "traceback": [
      "\u001b[1;31m---------------------------------------------------------------------------\u001b[0m",
      "\u001b[1;31mValueError\u001b[0m                                Traceback (most recent call last)",
      "Cell \u001b[1;32mIn[12], line 3\u001b[0m\n\u001b[0;32m      1\u001b[0m \u001b[38;5;28;01mfrom\u001b[39;00m \u001b[38;5;21;01mdatetime\u001b[39;00m \u001b[38;5;28;01mimport\u001b[39;00m datetime\n\u001b[1;32m----> 3\u001b[0m \u001b[38;5;28mprint\u001b[39m(datetime\u001b[38;5;241m.\u001b[39mfromisoformat(\u001b[38;5;124m'\u001b[39m\u001b[38;5;124m2023-03-08T12:34:56.789123+\u001b[39m\u001b[38;5;124m'\u001b[39m))\n",
      "\u001b[1;31mValueError\u001b[0m: Invalid isoformat string: '2023-03-08T12:34:56.789123+'"
     ]
    }
   ],
   "source": [
    "from datetime import datetime\n",
    "\n",
    "print(datetime.fromisoformat('2023-03-08T12:34:56.789123+'))\n",
    "# print(datetime(None))\n"
   ]
  },
  {
   "cell_type": "markdown",
   "metadata": {},
   "source": []
  }
 ],
 "metadata": {
  "kernelspec": {
   "display_name": "base",
   "language": "python",
   "name": "python3"
  },
  "language_info": {
   "codemirror_mode": {
    "name": "ipython",
    "version": 3
   },
   "file_extension": ".py",
   "mimetype": "text/x-python",
   "name": "python",
   "nbconvert_exporter": "python",
   "pygments_lexer": "ipython3",
   "version": "3.11.5"
  }
 },
 "nbformat": 4,
 "nbformat_minor": 2
}
